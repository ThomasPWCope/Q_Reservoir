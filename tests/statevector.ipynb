{
 "cells": [
  {
   "cell_type": "code",
   "execution_count": 1,
   "metadata": {},
   "outputs": [],
   "source": [
    "from qiskit import QuantumCircuit, transpile\n",
    "# from qiskit.providers.aer import QasmSimulator\n",
    "# from qiskit.providers.basicaer import QasmSimulatorPy\n",
    "from qiskit_aer import AerSimulator, Aer\n",
    "from qiskit.providers.fake_provider import FakeManila, FakeToronto, FakeJakartaV2\n",
    "from qiskit_aer.noise import NoiseModel\n",
    "from qiskit_ibm_provider import IBMProvider\n",
    "from qiskit.circuit import Parameter\n",
    "from qiskit.circuit.library import PauliEvolutionGate\n",
    "from qiskit.synthesis import QDrift, LieTrotter, SuzukiTrotter\n",
    "import qiskit.quantum_info as qi\n",
    "import qiskit\n",
    "from qiskit.visualization import plot_histogram\n",
    "\n",
    "import numpy as np\n",
    "import statsmodels.api as sm\n",
    "import matplotlib.pyplot as plt\n",
    "import seaborn as sns\n",
    "import pandas as pd\n",
    "import sklearn.preprocessing as skp\n",
    "from scipy.signal import savgol_filter\n",
    "import scipy\n",
    "import os\n",
    "import sys\n",
    "import itertools\n",
    "from numpy.random import Generator, PCG64\n",
    "from datetime import date\n",
    "import pathlib\n",
    "import inspect\n",
    "import time\n",
    "\n",
    "import warnings\n",
    "warnings.simplefilter(action='ignore', category=FutureWarning)\n",
    "\n",
    "module_path = os.path.abspath(os.path.join('..'))\n",
    "plot_path = f'{module_path}/plots'\n",
    "sys.path.append(module_path)\n",
    "\n",
    "from src.feedforward import QExtremeLearningMachine\n",
    "from src.rewinding import QRewindingRC, QRewindingStatevectorRC\n",
    "from src.data import DataSource"
   ]
  },
  {
   "cell_type": "code",
   "execution_count": 2,
   "metadata": {},
   "outputs": [
    {
     "data": {
      "text/plain": [
       "{'qiskit-terra': '0.24.0', 'qiskit-aer': '0.12.0', 'qiskit-ignis': None, 'qiskit-ibmq-provider': '0.20.2', 'qiskit': '0.43.0', 'qiskit-nature': None, 'qiskit-finance': None, 'qiskit-optimization': None, 'qiskit-machine-learning': None}"
      ]
     },
     "execution_count": 2,
     "metadata": {},
     "output_type": "execute_result"
    }
   ],
   "source": [
    "from IPython.display import display\n",
    "\n",
    "qiskit.__qiskit_version__"
   ]
  },
  {
   "attachments": {},
   "cell_type": "markdown",
   "metadata": {},
   "source": [
    "# How to use Qiskit Statevector / DensityMatrix to speed up simulations with partial measurements"
   ]
  },
  {
   "attachments": {},
   "cell_type": "markdown",
   "metadata": {},
   "source": [
    "# Partial measurement / reset"
   ]
  },
  {
   "cell_type": "code",
   "execution_count": 77,
   "metadata": {},
   "outputs": [],
   "source": [
    "nqubits = 3\n",
    "nmeas = 1\n",
    "qmeas = [*range(nmeas)]\n",
    "\n",
    "\n",
    "# QC\n",
    "qc = QuantumCircuit(nqubits)\n",
    "qc.h(0)\n",
    "qc.h(2)\n",
    "qc.cx(0,1)\n",
    "qc.cx(1,2)\n",
    "\n",
    "\n",
    "\n",
    "# partial measurement / reset\n",
    "rho = qi.DensityMatrix(qc)\n",
    "\n",
    "\n",
    "# optional: get samples\n",
    "counts = rho.sample_counts(shots=2**10)\n",
    "# counts = rho.probabilities()\n",
    "\n",
    "# reset: trace out qubit\n",
    "rho_meas = qi.partial_trace(state=rho, qargs=qmeas)\n",
    "\n",
    "# reconstruct rho all qubits\n",
    "rho_reset = qi.DensityMatrix(qi.Statevector.from_label('0'*(nmeas)).data)\n",
    "\n",
    "rho_full = qi.DensityMatrix(np.kron(rho_reset.data, rho_meas))\n",
    "\n",
    "# set circuit to reset state\n",
    "# qc.set_density_matrix(dm)\n",
    "\n",
    "\n",
    "# continue circuit\n",
    "\n",
    "\n",
    "# sample full measurement"
   ]
  },
  {
   "cell_type": "code",
   "execution_count": 78,
   "metadata": {},
   "outputs": [
    {
     "name": "stdout",
     "output_type": "stream",
     "text": [
      "True\n"
     ]
    }
   ],
   "source": [
    "# getting dm from circuit\n",
    "\n",
    "statev_init = qi.Statevector.from_label('0'*nqubits)\n",
    "rho = qi.DensityMatrix(statev_init.data)\n",
    "rho = rho.evolve(qc)\n",
    "\n",
    "rho2 = qi.DensityMatrix(qc)\n",
    "\n",
    "print('DM from circuit is the same as evolved:', np.allclose(rho2.data, rho.data))"
   ]
  },
  {
   "cell_type": "code",
   "execution_count": 85,
   "metadata": {},
   "outputs": [
    {
     "name": "stdout",
     "output_type": "stream",
     "text": [
      "Qiskit tensor is a kronecker product: True\n"
     ]
    }
   ],
   "source": [
    "# resetting by hand\n",
    "rho_meas = qi.partial_trace(state=rho, qargs=qmeas)\n",
    "rho_reset = qi.DensityMatrix(qi.Statevector.from_label('0'*(nmeas)).data)\n",
    "\n",
    "# reverse qiskit ordering\n",
    "rho_full = rho_meas.tensor(rho_reset)\n",
    "rho_full2 = qi.DensityMatrix(np.kron(rho_meas.data, rho_reset.data))\n",
    "\n",
    "print('Qiskit tensor is a kronecker product:', np.allclose(rho_full.data, rho_full2.data))"
   ]
  },
  {
   "cell_type": "code",
   "execution_count": 87,
   "metadata": {},
   "outputs": [
    {
     "name": "stdout",
     "output_type": "stream",
     "text": [
      "Qiskit reset is a partial trace & tensor product with |0> state: True\n"
     ]
    }
   ],
   "source": [
    "# resetting\n",
    "rho_meas = qi.partial_trace(state=rho, qargs=qmeas)\n",
    "rho_reset = qi.DensityMatrix(qi.Statevector.from_label('0'*nmeas).data)\n",
    "rho_full = rho_meas.tensor(rho_reset)\n",
    "\n",
    "rho_full_auto = rho.reset(qargs=qmeas)\n",
    "\n",
    "print('Qiskit reset is a partial trace & tensor product with |0> state:', np.allclose(rho_full.data, rho_full_auto.data))"
   ]
  },
  {
   "cell_type": "code",
   "execution_count": 102,
   "metadata": {},
   "outputs": [
    {
     "data": {
      "image/png": "[encoded data removed]",
      "text/plain": [
       "<Figure size 700x500 with 1 Axes>"
      ]
     },
     "execution_count": 102,
     "metadata": {},
     "output_type": "execute_result"
    }
   ],
   "source": [
    "# DM reset vs SV reset\n",
    "\n",
    "shots = 2**13\n",
    "\n",
    "qc = QuantumCircuit(2)\n",
    "qc.h(0)\n",
    "qc.cx(0, 1)\n",
    "# qc.h(1)\n",
    "\n",
    "sv = qi.Statevector.from_label('0'*2)\n",
    "dm = qi.DensityMatrix(sv.data)\n",
    "\n",
    "sv = sv.evolve(qc)\n",
    "dm = dm.evolve(qc)\n",
    "\n",
    "dm = dm.reset([0])\n",
    "\n",
    "# sv = sv.reset([0])\n",
    "sv = qi.partial_trace(sv, qargs=[0])\n",
    "sv0 = qi.Statevector.from_label('0')\n",
    "sv = sv.tensor(sv0)\n",
    "# sv = sv0.tensor(sv)\n",
    "\n",
    "plot_histogram([sv.sample_counts(shots=shots), dm.sample_counts(shots=shots)], legend=['SV', 'DM'])"
   ]
  },
  {
   "attachments": {},
   "cell_type": "markdown",
   "metadata": {},
   "source": [
    "# Time rho"
   ]
  },
  {
   "cell_type": "code",
   "execution_count": 114,
   "metadata": {},
   "outputs": [],
   "source": [
    "from circuits import ising_circuit\n",
    "\n",
    "def time_partial_measurements(nqubits = 5, nmeas = 3, max_partial_measurements = 5):\n",
    "    \n",
    "    \n",
    "    qmeas = [*range(nmeas)] # measure first few qubits\n",
    "    shots = 2**13\n",
    "    qc = ising_circuit(nqubits=nqubits)\n",
    "\n",
    "    npmeas = []\n",
    "    dm_times = []\n",
    "    aer_times = []\n",
    "    sv_times = []\n",
    "\n",
    "    for n_partial_measurements in range(max_partial_measurements+1):\n",
    "        print(f'{n_partial_measurements} mid circuit measurements:')\n",
    "        npmeas.append(n_partial_measurements)\n",
    "\n",
    "\n",
    "        t0 = time.time()\n",
    "        #\n",
    "        statev = qi.Statevector.from_label('0'*nqubits)\n",
    "        statev = statev.evolve(qc)\n",
    "        for _ in range(n_partial_measurements):\n",
    "            # counts = statev.sample_counts(shots=shots)\n",
    "            # statev = statev.reset(qargs=qmeas)\n",
    "            statev_meas = qi.partial_trace(statev, qargs=qmeas)\n",
    "            statev_reset = qi.Statevector.from_label('0'*nmeas)\n",
    "            statev = statev_meas.tensor(statev_reset)\n",
    "            statev = statev.evolve(qc)\n",
    "        counts_sv = statev.sample_counts(shots=shots, qargs=qmeas)\n",
    "        #\n",
    "        t1 = time.time() - t0\n",
    "        sv_times.append(t1)\n",
    "        print(f' Statevector: {t1:.2f}s')\n",
    "        \n",
    "\n",
    "        t0 = time.time()\n",
    "        #\n",
    "        statev_init = qi.Statevector.from_label('0'*nqubits)\n",
    "        rho = qi.DensityMatrix(statev_init.data)\n",
    "        rho = rho.evolve(qc)\n",
    "        for _ in range(n_partial_measurements):\n",
    "            # counts = rho.sample_counts(shots=shots, qargs=qmeas)\n",
    "            # rho = rho.reset(qargs=qmeas)\n",
    "            rho_meas = qi.partial_trace(state=rho, qargs=qmeas)\n",
    "            rho_reset = qi.DensityMatrix(qi.Statevector.from_label('0'*nmeas).data)\n",
    "            rho = rho_meas.tensor(rho_reset)\n",
    "            rho = rho.evolve(qc)\n",
    "        counts_rho = rho.sample_counts(shots=shots, qargs=qmeas)\n",
    "        #\n",
    "        t1 = time.time() - t0\n",
    "        dm_times.append(t1)\n",
    "        print(f' Density Matrix {t1:.2f}s')\n",
    "\n",
    "\n",
    "        t0 = time.time()\n",
    "        #\n",
    "        sim = AerSimulator()\n",
    "        qc_meas = QuantumCircuit(nqubits, nqubits)\n",
    "        qc_meas.append(qc, qargs=[*range(nqubits)])\n",
    "        for _ in range(n_partial_measurements):\n",
    "            # qc_meas.measure(qmeas, qmeas)\n",
    "            qc_meas.reset(qmeas)\n",
    "            qc_meas.append(qc, qargs=[*range(nqubits)])\n",
    "        qc_meas.measure([*range(nqubits)], [*range(nqubits)])\n",
    "        compiled_qc = transpile(qc_meas, sim)\n",
    "        job = sim.run(compiled_qc, shots=shots)\n",
    "        result = job.result()\n",
    "        counts_aer = result.get_counts()\n",
    "        #\n",
    "        t1 = time.time() - t0\n",
    "        aer_times.append(t1)\n",
    "        print(f' AerSimulator: {t1:.2f}s')\n",
    "\n",
    "    plt.figure()\n",
    "    plt.plot(npmeas, dm_times, label='Density Matrix')\n",
    "    plt.plot(npmeas, aer_times, label='AerSimulator')\n",
    "    plt.plot(npmeas, sv_times, label='Statevector')\n",
    "    plt.title('Timings of Methods for Partial Measurements')\n",
    "    plt.ylabel('Seconds')\n",
    "    plt.xlabel('Number Resets / Partial Measurements')\n",
    "    plt.xticks(npmeas)\n",
    "    plt.legend()\n",
    "    plt.show()\n",
    "\n",
    "    return counts_rho, counts_aer, counts_sv\n"
   ]
  },
  {
   "cell_type": "code",
   "execution_count": 115,
   "metadata": {},
   "outputs": [
    {
     "name": "stdout",
     "output_type": "stream",
     "text": [
      "0 mid circuit measurements:\n",
      " Statevector: 0.02s\n",
      " Density Matrix 1.54s\n",
      " AerSimulator: 0.02s\n",
      "1 mid circuit measurements:\n",
      " Statevector: 1.42s\n",
      " Density Matrix 2.81s\n",
      " AerSimulator: 0.99s\n",
      "2 mid circuit measurements:\n",
      " Statevector: 2.82s\n",
      " Density Matrix 4.20s\n",
      " AerSimulator: 8.74s\n",
      "3 mid circuit measurements:\n",
      " Statevector: 4.22s\n",
      " Density Matrix 5.61s\n",
      " AerSimulator: 11.45s\n",
      "4 mid circuit measurements:\n",
      " Statevector: 5.57s\n",
      " Density Matrix 6.95s\n",
      " AerSimulator: 14.18s\n",
      "5 mid circuit measurements:\n",
      " Statevector: 6.96s\n",
      " Density Matrix 8.37s\n",
      " AerSimulator: 16.88s\n"
     ]
    },
    {
     "data": {
      "image/png": "[encoded data removed]",
      "text/plain": [
       "<Figure size 640x480 with 1 Axes>"
      ]
     },
     "metadata": {},
     "output_type": "display_data"
    }
   ],
   "source": [
    "counts_rho, counts_aer, counts_sv = time_partial_measurements(10, 5, 5)\n",
    "# counts_rho, counts_aer, counts_sv = time_partial_measurements(3, 2, 5)\n",
    "\n",
    "# print(counts_aer)\n",
    "\n",
    "# plot_histogram([counts_rho, counts_aer, counts_sv], legend=['DM', 'Aer', 'SV'], color=['crimson','midnightblue', 'green'])"
   ]
  },
  {
   "attachments": {},
   "cell_type": "markdown",
   "metadata": {},
   "source": [
    "# "
   ]
  },
  {
   "cell_type": "code",
   "execution_count": 10,
   "metadata": {},
   "outputs": [],
   "source": [
    "# # Noisy statevector\n",
    "# # dm after measurement\n",
    "\n",
    "# # provider = IBMProvider()\n",
    "# # backend = provider.get_backend('ibmq_manila')\n",
    "# # noise_model = NoiseModel.from_backend(backend)\n",
    "\n",
    "# noise_model = NoiseModel.from_backend(FakeJakartaV2())\n",
    "\n",
    "# noisy_simulator = AerSimulator(method = 'statevector', noise_model = noise_model)\n",
    "\n",
    "\n",
    "# circ = QuantumCircuit(5, 2)\n",
    "# circ.h(2)\n",
    "# circ.cx(2, 1)\n",
    "# circ.cx(1, 0)\n",
    "# circ.cx(2, 3)\n",
    "# circ.cx(3, 4)\n",
    "# circ.barrier()\n",
    "# circ.measure(0, 0)\n",
    "# circ.measure(1, 1)\n",
    "# circ.save_density_matrix(qubits=[2, 3, 4], label=\"rho\", conditional=True)\n",
    "# circ.draw('mpl')\n",
    "\n",
    "\n",
    "# job = noisy_simulator.run(circ)\n",
    "# result = job.result()\n",
    "\n",
    "# # Get statevector for each measurement:\n",
    "# for meas, state in result.data()['rho'].items():\n",
    "#     display(meas)\n",
    "#     display(state.draw('latex'))"
   ]
  },
  {
   "cell_type": "code",
   "execution_count": 11,
   "metadata": {},
   "outputs": [],
   "source": [
    "# # Snapshot\n",
    "\n",
    "# simulator = Aer.get_backend('aer_simulator_statevector')\n",
    "# nqubits = 2\n",
    "# nmeas = 2\n",
    "# shots = 2**13\n",
    "\n",
    "# circuit = QuantumCircuit(nqubits, nmeas)\n",
    "\n",
    "# circuit.h(0)\n",
    "# circuit.cx(0, 1)\n",
    "\n",
    "# circuit.measure([*range(nqubits)], [*range(nmeas)])\n",
    "\n",
    "# # circuit = transpile(circuit, simulator)\n",
    "\n",
    "# print(type(circuit))\n",
    "# # qiskit.circuit.QuantumCircuit.snapshot\n",
    "# circuit.snapshot(label = \"psi\", snapshot_type = \"statevector\")\n",
    "                 \n",
    "# results = simulator.run(circuit, shots = shots, memory = True).result()\n",
    "# states = results.data()[\"snapshots\"][\"statevector\"][\"psi\"]"
   ]
  },
  {
   "cell_type": "code",
   "execution_count": 12,
   "metadata": {},
   "outputs": [
    {
     "name": "stdout",
     "output_type": "stream",
     "text": [
      "sv before measurement Statevector([0.70710678+0.j, 0.        +0.j, 0.        +0.j,\n",
      "             0.70710678+0.j],\n",
      "            dims=(2, 2))\n",
      "{'11': 4159, '00': 4033}\n"
     ]
    }
   ],
   "source": [
    "# average statevector after measurement\n",
    "\n",
    "sim = Aer.get_backend('aer_simulator_statevector')\n",
    "nqubits = 2\n",
    "nmeas = 2\n",
    "shots = 2**13\n",
    "\n",
    "statev_init = qi.Statevector.from_label('0'*nqubits)\n",
    "\n",
    "qc = QuantumCircuit(nqubits, nmeas)\n",
    "qc.set_statevector(statev_init) \n",
    "\n",
    "# do circuit\n",
    "qc.h(0)\n",
    "qc.cx(0, 1)\n",
    "\n",
    "qc.save_statevector()\n",
    "\n",
    "qc.measure([*range(nqubits)], [*range(nmeas)])\n",
    "qc = transpile(qc, sim)\n",
    "result = sim.run(qc, shots=shots).result()\n",
    "\n",
    "statev_post = result.get_statevector(qc)\n",
    "\n",
    "print('sv before measurement', statev_post)\n",
    "print(result.get_counts())"
   ]
  },
  {
   "cell_type": "code",
   "execution_count": 13,
   "metadata": {},
   "outputs": [
    {
     "name": "stdout",
     "output_type": "stream",
     "text": [
      "sv after measurement [0.+0.j 0.+0.j 0.+0.j 1.+0.j]\n",
      "sv after measurement [0.+0.j 0.+0.j 0.+0.j 1.+0.j]\n",
      "sv after measurement [1.+0.j 0.+0.j 0.+0.j 0.+0.j]\n",
      "sv after measurement [0.+0.j 0.+0.j 0.+0.j 1.+0.j]\n",
      "sv after measurement [1.+0.j 0.+0.j 0.+0.j 0.+0.j]\n",
      "{'00': 533, '11': 491}\n",
      "----------\n",
      "[0.50097656+0.j 0.        +0.j 0.        +0.j 0.49902344+0.j]\n",
      "----------\n",
      "average estimated from SV before measurement\n",
      "[0.5 0.  0.  0.5]\n"
     ]
    }
   ],
   "source": [
    "# average statevector after measurement\n",
    "\n",
    "sim = Aer.get_backend('aer_simulator_statevector')\n",
    "nqubits = 2\n",
    "nmeas = 2\n",
    "shots = 2**10\n",
    "\n",
    "for _ in range(5):\n",
    "\n",
    "    qc = QuantumCircuit(nqubits, nmeas)\n",
    "\n",
    "    # do circuit\n",
    "    qc.h(0)\n",
    "    qc.cx(0, 1)\n",
    "\n",
    "    qc.measure([*range(nqubits)], [*range(nmeas)])\n",
    "    qc = transpile(qc, sim)\n",
    "\n",
    "    qc.save_statevector()\n",
    "    result = sim.run(qc, shots=shots).result()\n",
    "\n",
    "    statev_post = result.get_statevector(qc)\n",
    "\n",
    "    print('sv after measurement', statev_post.data)\n",
    "print(result.get_counts())\n",
    "\n",
    "\n",
    "list_sv = [] # list of row vectors\n",
    "for _ in range(shots):\n",
    "\n",
    "    qc = QuantumCircuit(nqubits, nmeas)\n",
    "\n",
    "    # do circuit\n",
    "    qc.h(0)\n",
    "    qc.cx(0, 1)\n",
    "\n",
    "    qc.measure([*range(nqubits)], [*range(nmeas)])\n",
    "    qc = transpile(qc, sim)\n",
    "\n",
    "    qc.save_statevector()\n",
    "    result = sim.run(qc, shots=1).result()\n",
    "\n",
    "    statev_post = result.get_statevector(qc)\n",
    "\n",
    "    list_sv.append(statev_post.data)\n",
    "\n",
    "sv_arr = np.vstack(list_sv)\n",
    "avg_sv = sv_arr.mean(axis=0)\n",
    "print('-' * 10)\n",
    "print(avg_sv)\n",
    "\n",
    "\n",
    "\n",
    "qc = QuantumCircuit(nqubits, nmeas)\n",
    "\n",
    "# do circuit\n",
    "qc.h(0)\n",
    "qc.cx(0, 1)\n",
    "\n",
    "qc.save_statevector()\n",
    "qc.measure([*range(nqubits)], [*range(nmeas)])\n",
    "qc = transpile(qc, sim)\n",
    "\n",
    "result = sim.run(qc, shots=1).result()\n",
    "\n",
    "statev_post = result.get_statevector(qc)\n",
    "\n",
    "# res = statev_post.data**2\n",
    "res = np.abs(statev_post.data)\n",
    "res = res / np.linalg.norm(res, ord=1)\n",
    "\n",
    "print('-' * 10)\n",
    "print('average estimated from SV before measurement')\n",
    "print(res)"
   ]
  },
  {
   "cell_type": "code",
   "execution_count": 14,
   "metadata": {},
   "outputs": [
    {
     "name": "stdout",
     "output_type": "stream",
     "text": [
      "sv\n",
      "Statevector([ 0.70031335-0.06897484j, -0.06897484-0.00679343j,\n",
      "              0.06897484-0.00679343j,  0.70031335+0.06897484j],\n",
      "            dims=(2, 2))\n",
      "[0.49519632 0.00480368 0.00480368 0.49519632]\n",
      "dm from s\n",
      "DensityMatrix([[ 0.49519632-9.53869559e-19j, -0.04783543+9.51505844e-03j,\n",
      "                 0.04877258-2.05518772e-19j,  0.48568126-9.66080095e-02j],\n",
      "               [-0.04783543-9.51505844e-03j,  0.00480368+2.24549168e-20j,\n",
      "                -0.00471138-9.37151458e-04j, -0.04877258-1.05100505e-18j],\n",
      "               [ 0.04877258-6.63372388e-20j, -0.00471138+9.37151458e-04j,\n",
      "                 0.00480368-7.99638953e-21j,  0.04783543-9.51505844e-03j],\n",
      "               [ 0.48568126+9.66080095e-02j, -0.04877258+5.23199498e-19j,\n",
      "                 0.04783543+9.51505844e-03j,  0.49519632+1.58574911e-18j]],\n",
      "              dims=(2, 2))\n",
      "[0.49519632 0.00480368 0.00480368 0.49519632]\n",
      "dm\n",
      "DensityMatrix([[ 0.49519632+3.85610170e-18j, -0.04783543+9.51505844e-03j,\n",
      "                 0.04877258+3.79792868e-19j,  0.48568126-9.66080095e-02j],\n",
      "               [-0.04783543-9.51505844e-03j,  0.00480368-3.74063325e-20j,\n",
      "                -0.00471138-9.37151458e-04j, -0.04877258+3.79792868e-19j],\n",
      "               [ 0.04877258+3.79792868e-19j, -0.00471138+9.37151458e-04j,\n",
      "                 0.00480368+3.74063325e-20j,  0.04783543-9.51505844e-03j],\n",
      "               [ 0.48568126+9.66080095e-02j, -0.04877258+3.79792868e-19j,\n",
      "                 0.04783543+9.51505844e-03j,  0.49519632-3.85610170e-18j]],\n",
      "              dims=(2, 2))\n",
      "[0.49519632 0.00480368 0.00480368 0.49519632]\n",
      "dm is pure: True\n",
      "Same: True\n"
     ]
    }
   ],
   "source": [
    "# simulator == density matrix\n",
    "\n",
    "nqubits = 2\n",
    "nmeas = 2\n",
    "shots = 2**13\n",
    "\n",
    "sim = Aer.get_backend('aer_simulator_statevector')\n",
    "qc = QuantumCircuit(nqubits, nmeas)\n",
    "qc.h(0)\n",
    "qc.cx(0, 1)\n",
    "qc.rz(np.pi/16, 1)\n",
    "qc.ry(np.pi/16, 1)\n",
    "\n",
    "qc.save_statevector()\n",
    "qc = transpile(qc, sim)\n",
    "result = sim.run(qc, shots=shots).result()\n",
    "statev = result.get_statevector(qc)\n",
    "\n",
    "\n",
    "# dm\n",
    "sim = Aer.get_backend('aer_simulator_density_matrix')\n",
    "qc = QuantumCircuit(nqubits, nmeas)\n",
    "qc.h(0)\n",
    "qc.cx(0, 1)\n",
    "qc.rz(np.pi/16, 1)\n",
    "qc.ry(np.pi/16, 1)\n",
    "\n",
    "dm = qi.DensityMatrix.from_instruction(qc)\n",
    "\n",
    "\n",
    "# dm from SV\n",
    "dm_sv = qi.DensityMatrix(statev.data)\n",
    "\n",
    "\n",
    "print('sv', statev, statev.probabilities(), sep='\\n')\n",
    "print('dm from s', dm_sv, dm_sv.probabilities(), sep='\\n')\n",
    "print('dm', dm, dm.probabilities(), sep='\\n')\n",
    "print('dm is pure:', np.allclose(np.matmul(dm.data, dm.data), dm.data))\n",
    "print('Same:', np.allclose(dm.data, dm_sv.data))"
   ]
  },
  {
   "cell_type": "code",
   "execution_count": 15,
   "metadata": {},
   "outputs": [
    {
     "data": {
      "text/plain": [
       "('11',\n",
       " DensityMatrix([[0.+0.00000000e+00j, 0.+0.00000000e+00j,\n",
       "                 0.+0.00000000e+00j, 0.+0.00000000e+00j],\n",
       "                [0.+0.00000000e+00j, 0.+0.00000000e+00j,\n",
       "                 0.+0.00000000e+00j, 0.+0.00000000e+00j],\n",
       "                [0.+0.00000000e+00j, 0.+0.00000000e+00j,\n",
       "                 0.+0.00000000e+00j, 0.+0.00000000e+00j],\n",
       "                [0.+0.00000000e+00j, 0.+0.00000000e+00j,\n",
       "                 0.+0.00000000e+00j, 1.-7.78701606e-18j]],\n",
       "               dims=(2, 2)))"
      ]
     },
     "execution_count": 15,
     "metadata": {},
     "output_type": "execute_result"
    }
   ],
   "source": [
    "# measure\n",
    "# Measure subsystems and return outcome and post-measure state.\n",
    "dm.measure()"
   ]
  },
  {
   "attachments": {},
   "cell_type": "markdown",
   "metadata": {},
   "source": [
    "### SV usage"
   ]
  },
  {
   "cell_type": "code",
   "execution_count": 16,
   "metadata": {},
   "outputs": [
    {
     "name": "stdout",
     "output_type": "stream",
     "text": [
      "{'11': 4149, '00': 4043}\n",
      "{'00': 4112, '11': 4080}\n"
     ]
    },
    {
     "data": {
      "image/png": "[encoded data removed]",
      "text/plain": [
       "<Figure size 370.906x284.278 with 1 Axes>"
      ]
     },
     "execution_count": 16,
     "metadata": {},
     "output_type": "execute_result"
    }
   ],
   "source": [
    "sim = Aer.get_backend('aer_simulator_statevector')\n",
    "nqubits = 2\n",
    "nmeas = 2\n",
    "shots = 2**13\n",
    "\n",
    "statev_init = qi.Statevector.from_label('0'*nqubits)\n",
    "\n",
    "qc = QuantumCircuit(nqubits, nmeas)\n",
    "qc.set_statevector(statev_init) \n",
    "\n",
    "# do circuit\n",
    "qc.h(0)\n",
    "qc.cx(0, 1)\n",
    "\n",
    "qc.save_statevector()\n",
    "\n",
    "qc.measure([*range(nqubits)], [*range(nmeas)])\n",
    "qc = transpile(qc, sim)\n",
    "result = sim.run(qc, shots=shots).result()\n",
    "\n",
    "statev_post = result.get_statevector(qc)\n",
    "\n",
    "print(result.get_counts())\n",
    "\n",
    "\n",
    "qc = QuantumCircuit(nqubits, nmeas)\n",
    "qc.set_statevector(statev_post) \n",
    "\n",
    "qc.measure([*range(nqubits)], [*range(nmeas)])\n",
    "qc = transpile(qc, sim)\n",
    "result = sim.run(qc, shots=shots).result()\n",
    "\n",
    "print(result.get_counts())\n",
    "qc.draw('mpl')"
   ]
  }
 ],
 "metadata": {
  "kernelspec": {
   "display_name": "envrl",
   "language": "python",
   "name": "python3"
  },
  "language_info": {
   "codemirror_mode": {
    "name": "ipython",
    "version": 3
   },
   "file_extension": ".py",
   "mimetype": "text/x-python",
   "name": "python",
   "nbconvert_exporter": "python",
   "pygments_lexer": "ipython3",
   "version": "3.11.3"
  },
  "orig_nbformat": 4
 },
 "nbformat": 4,
 "nbformat_minor": 2
}
