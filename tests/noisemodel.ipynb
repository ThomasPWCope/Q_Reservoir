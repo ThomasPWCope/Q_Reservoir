{
 "cells": [
  {
   "cell_type": "code",
   "execution_count": 1,
   "metadata": {},
   "outputs": [],
   "source": [
    "from qiskit import QuantumCircuit, transpile\n",
    "# from qiskit.providers.aer import QasmSimulator\n",
    "# from qiskit.providers.basicaer import QasmSimulatorPy\n",
    "from qiskit_aer import AerSimulator, Aer\n",
    "from qiskit.providers.fake_provider import FakeProvider, FakeManila, FakeToronto, FakeJakartaV2\n",
    "from qiskit_aer.noise import NoiseModel\n",
    "from qiskit_ibm_provider import IBMProvider\n",
    "from qiskit.circuit import Parameter\n",
    "from qiskit.circuit.library import PauliEvolutionGate\n",
    "from qiskit.synthesis import QDrift, LieTrotter, SuzukiTrotter\n",
    "import qiskit.quantum_info as qi\n",
    "import qiskit\n",
    "from qiskit.visualization import plot_histogram\n",
    "\n",
    "import numpy as np\n",
    "import statsmodels.api as sm\n",
    "import matplotlib.pyplot as plt\n",
    "import seaborn as sns\n",
    "import pandas as pd\n",
    "import sklearn.preprocessing as skp\n",
    "from scipy.signal import savgol_filter\n",
    "import scipy\n",
    "import os\n",
    "import sys\n",
    "import itertools\n",
    "from numpy.random import Generator, PCG64\n",
    "from datetime import date\n",
    "import pathlib\n",
    "import inspect\n",
    "import time\n",
    "\n",
    "import warnings\n",
    "warnings.simplefilter(action='ignore', category=FutureWarning)\n",
    "\n",
    "module_path = os.path.abspath(os.path.join('..'))\n",
    "plot_path = f'{module_path}/plots'\n",
    "sys.path.insert(0, os.path.abspath('../src/'))\n",
    "\n",
    "from feedforward import QExtremeLearningMachine\n",
    "from rewinding import QRewindingRC, QRewindingStatevectorRC\n",
    "from data import DataSource\n",
    "from noisemodel import thermal_model"
   ]
  },
  {
   "attachments": {},
   "cell_type": "markdown",
   "metadata": {},
   "source": [
    "# Info about fake backends"
   ]
  },
  {
   "cell_type": "code",
   "execution_count": null,
   "metadata": {},
   "outputs": [
    {
     "name": "stdout",
     "output_type": "stream",
     "text": [
      "NoiseModel:\n",
      "  Basis gates: ['cx', 'id', 'reset', 'rz', 'sx', 'x']\n",
      "  Instructions with noise: ['sx', 'id', 'reset', 'x', 'measure', 'cx']\n",
      "  Qubits with noise: [0, 1, 2, 3, 4, 5, 6, 7, 8, 9, 10, 11, 12, 13, 14, 15, 16, 17, 18, 19, 20, 21, 22, 23, 24, 25, 26]\n",
      "  Specific qubit errors: [('id', (0,)), ('id', (1,)), ('id', (2,)), ('id', (3,)), ('id', (4,)), ('id', (5,)), ('id', (6,)), ('id', (7,)), ('id', (8,)), ('id', (9,)), ('id', (10,)), ('id', (11,)), ('id', (12,)), ('id', (13,)), ('id', (14,)), ('id', (15,)), ('id', (16,)), ('id', (17,)), ('id', (18,)), ('id', (19,)), ('id', (20,)), ('id', (21,)), ('id', (22,)), ('id', (23,)), ('id', (24,)), ('id', (25,)), ('id', (26,)), ('sx', (0,)), ('sx', (1,)), ('sx', (2,)), ('sx', (3,)), ('sx', (4,)), ('sx', (5,)), ('sx', (6,)), ('sx', (7,)), ('sx', (8,)), ('sx', (9,)), ('sx', (10,)), ('sx', (11,)), ('sx', (12,)), ('sx', (13,)), ('sx', (14,)), ('sx', (15,)), ('sx', (16,)), ('sx', (17,)), ('sx', (18,)), ('sx', (19,)), ('sx', (20,)), ('sx', (21,)), ('sx', (22,)), ('sx', (23,)), ('sx', (24,)), ('sx', (25,)), ('sx', (26,)), ('x', (0,)), ('x', (1,)), ('x', (2,)), ('x', (3,)), ('x', (4,)), ('x', (5,)), ('x', (6,)), ('x', (7,)), ('x', (8,)), ('x', (9,)), ('x', (10,)), ('x', (11,)), ('x', (12,)), ('x', (13,)), ('x', (14,)), ('x', (15,)), ('x', (16,)), ('x', (17,)), ('x', (18,)), ('x', (19,)), ('x', (20,)), ('x', (21,)), ('x', (22,)), ('x', (23,)), ('x', (24,)), ('x', (25,)), ('x', (26,)), ('cx', (16, 14)), ('cx', (14, 16)), ('cx', (9, 8)), ('cx', (8, 9)), ('cx', (5, 8)), ('cx', (8, 5)), ('cx', (5, 3)), ('cx', (3, 5)), ('cx', (26, 25)), ('cx', (25, 26)), ('cx', (18, 17)), ('cx', (17, 18)), ('cx', (18, 15)), ('cx', (15, 18)), ('cx', (12, 15)), ('cx', (15, 12)), ('cx', (2, 3)), ('cx', (3, 2)), ('cx', (13, 12)), ('cx', (12, 13)), ('cx', (25, 24)), ('cx', (24, 25)), ('cx', (12, 10)), ('cx', (10, 12)), ('cx', (19, 22)), ('cx', (22, 19)), ('cx', (7, 10)), ('cx', (10, 7)), ('cx', (25, 22)), ('cx', (22, 25)), ('cx', (6, 7)), ('cx', (7, 6)), ('cx', (11, 8)), ('cx', (8, 11)), ('cx', (21, 18)), ('cx', (18, 21)), ('cx', (7, 4)), ('cx', (4, 7)), ('cx', (19, 16)), ('cx', (16, 19)), ('cx', (1, 4)), ('cx', (4, 1)), ('cx', (14, 11)), ('cx', (11, 14)), ('cx', (24, 23)), ('cx', (23, 24)), ('cx', (2, 1)), ('cx', (1, 2)), ('cx', (20, 19)), ('cx', (19, 20)), ('cx', (23, 21)), ('cx', (21, 23)), ('cx', (0, 1)), ('cx', (1, 0)), ('cx', (13, 14)), ('cx', (14, 13)), ('reset', (0,)), ('reset', (1,)), ('reset', (2,)), ('reset', (3,)), ('reset', (4,)), ('reset', (5,)), ('reset', (6,)), ('reset', (7,)), ('reset', (8,)), ('reset', (9,)), ('reset', (10,)), ('reset', (11,)), ('reset', (12,)), ('reset', (13,)), ('reset', (14,)), ('reset', (15,)), ('reset', (16,)), ('reset', (17,)), ('reset', (18,)), ('reset', (19,)), ('reset', (20,)), ('reset', (21,)), ('reset', (22,)), ('reset', (23,)), ('reset', (24,)), ('reset', (25,)), ('reset', (26,)), ('measure', (0,)), ('measure', (1,)), ('measure', (2,)), ('measure', (3,)), ('measure', (4,)), ('measure', (5,)), ('measure', (6,)), ('measure', (7,)), ('measure', (8,)), ('measure', (9,)), ('measure', (10,)), ('measure', (11,)), ('measure', (12,)), ('measure', (13,)), ('measure', (14,)), ('measure', (15,)), ('measure', (16,)), ('measure', (17,)), ('measure', (18,)), ('measure', (19,)), ('measure', (20,)), ('measure', (21,)), ('measure', (22,)), ('measure', (23,)), ('measure', (24,)), ('measure', (25,)), ('measure', (26,))]\n"
     ]
    }
   ],
   "source": [
    "aer_method = 'statevector'\n",
    "provider = FakeProvider()\n",
    "backend = provider.get_backend('fake_toronto')\n",
    "noise_model = NoiseModel.from_backend(backend)\n",
    "backend = AerSimulator(method = aer_method, noise_model = noise_model)\n",
    "\n",
    "print(backend.options.noise_model)"
   ]
  },
  {
   "cell_type": "code",
   "execution_count": null,
   "metadata": {},
   "outputs": [
    {
     "data": {
      "text/plain": [
       "<NoiseModel on ['sx', 'id', 'reset', 'x', 'measure', 'cx']>"
      ]
     },
     "execution_count": 3,
     "metadata": {},
     "output_type": "execute_result"
    }
   ],
   "source": [
    "noise_model\n"
   ]
  },
  {
   "cell_type": "code",
   "execution_count": null,
   "metadata": {},
   "outputs": [
    {
     "name": "stdout",
     "output_type": "stream",
     "text": [
      "['cx', 'id', 'measure', 'reset', 'sx', 'x']\n",
      "['cx', 'id', 'reset', 'rz', 'sx', 'x']\n",
      "[0, 1, 2, 3, 4, 5, 6, 7, 8, 9, 10, 11, 12, 13, 14, 15, 16, 17, 18, 19, 20, 21, 22, 23, 24, 25, 26]\n"
     ]
    }
   ],
   "source": [
    "print(noise_model.noise_instructions)\n",
    "print(noise_model.basis_gates)\n",
    "print(noise_model.noise_qubits)\n"
   ]
  },
  {
   "cell_type": "code",
   "execution_count": null,
   "metadata": {},
   "outputs": [
    {
     "name": "stdout",
     "output_type": "stream",
     "text": [
      "[[0, 1], [1, 0], [1, 2], [1, 4], [2, 1], [2, 3], [3, 2], [3, 5], [4, 1], [4, 7], [5, 3], [5, 8], [6, 7], [7, 4], [7, 6], [7, 10], [8, 5], [8, 9], [8, 11], [9, 8], [10, 7], [10, 12], [11, 8], [11, 14], [12, 10], [12, 13], [12, 15], [13, 12], [13, 14], [14, 11], [14, 13], [14, 16], [15, 12], [15, 18], [16, 14], [16, 19], [17, 18], [18, 15], [18, 17], [18, 21], [19, 16], [19, 20], [19, 22], [20, 19], [21, 18], [21, 23], [22, 19], [22, 25], [23, 21], [23, 24], [24, 23], [24, 25], [25, 22], [25, 24], [25, 26], [26, 25]]\n",
      "['id', 'rz', 'sx', 'x', 'cx', 'reset']\n",
      "27\n",
      "[GateConfig(id, [], gate id q { U(0, 0, 0) q; }, [[0], [1], [2], [3], [4], [5], [6], [7], [8], [9], [10], [11], [12], [13], [14], [15], [16], [17], [18], [19], [20], [21], [22], [23], [24], [25], [26]]), GateConfig(rz, ['theta'], gate rz(theta) q { U(0, 0, theta) q; }, [[0], [1], [2], [3], [4], [5], [6], [7], [8], [9], [10], [11], [12], [13], [14], [15], [16], [17], [18], [19], [20], [21], [22], [23], [24], [25], [26]]), GateConfig(sx, [], gate sx q { U(pi/2, 3*pi/2, pi/2) q; }, [[0], [1], [2], [3], [4], [5], [6], [7], [8], [9], [10], [11], [12], [13], [14], [15], [16], [17], [18], [19], [20], [21], [22], [23], [24], [25], [26]]), GateConfig(x, [], gate x q { U(pi, 0, pi) q; }, [[0], [1], [2], [3], [4], [5], [6], [7], [8], [9], [10], [11], [12], [13], [14], [15], [16], [17], [18], [19], [20], [21], [22], [23], [24], [25], [26]]), GateConfig(cx, [], gate cx q0, q1 { CX q0, q1; }, [[0, 1], [1, 0], [1, 2], [1, 4], [2, 1], [2, 3], [3, 2], [3, 5], [4, 1], [4, 7], [5, 3], [5, 8], [6, 7], [7, 4], [7, 6], [7, 10], [8, 5], [8, 9], [8, 11], [9, 8], [10, 7], [10, 12], [11, 8], [11, 14], [12, 10], [12, 13], [12, 15], [13, 12], [13, 14], [14, 11], [14, 13], [14, 16], [15, 12], [15, 18], [16, 14], [16, 19], [17, 18], [18, 15], [18, 17], [18, 21], [19, 16], [19, 20], [19, 22], [20, 19], [21, 18], [21, 23], [22, 19], [22, 25], [23, 21], [23, 24], [24, 23], [24, 25], [25, 22], [25, 24], [25, 26], [26, 25]]), GateConfig(reset, None, None)]\n"
     ]
    }
   ],
   "source": [
    "# https://qiskit.org/documentation/stubs/qiskit.providers.models.PulseBackendConfiguration.html#pulsebackendconfiguration\n",
    "backend = provider.get_backend('fake_toronto')\n",
    "print(backend.configuration().coupling_map)\n",
    "print(backend.configuration().basis_gates)\n",
    "print(backend.configuration().n_qubits)\n",
    "print(backend.configuration().gates)"
   ]
  },
  {
   "cell_type": "code",
   "execution_count": null,
   "metadata": {},
   "outputs": [
    {
     "name": "stdout",
     "output_type": "stream",
     "text": [
      "<qiskit.providers.models.backendproperties.BackendProperties object at 0x1765b5390>\n"
     ]
    }
   ],
   "source": [
    "# https://qiskit.org/documentation/locale/de_DE/stubs/qiskit.providers.models.BackendProperties.html#backendproperties\n",
    "backend = provider.get_backend('fake_toronto')\n",
    "print(backend.properties())\n",
    "\n"
   ]
  },
  {
   "cell_type": "code",
   "execution_count": null,
   "metadata": {},
   "outputs": [
    {
     "name": "stdout",
     "output_type": "stream",
     "text": [
      "[Nduv(datetime.datetime(2021, 3, 15, 2, 45, 30, tzinfo=tzoffset(None, -14400)), T1, us, 56.40156543513177), Nduv(datetime.datetime(2021, 3, 15, 2, 57, 43, tzinfo=tzoffset(None, -14400)), T2, us, 50.69720583030928), Nduv(datetime.datetime(2021, 3, 15, 14, 16, 30, tzinfo=tzoffset(None, -14400)), frequency, GHz, 5.224962212570894), Nduv(datetime.datetime(2021, 3, 15, 14, 16, 30, tzinfo=tzoffset(None, -14400)), anharmonicity, GHz, -0.33434735824128314), Nduv(datetime.datetime(2021, 3, 15, 2, 31, 46, tzinfo=tzoffset(None, -14400)), readout_error, , 0.057499999999999996), Nduv(datetime.datetime(2021, 3, 15, 2, 31, 46, tzinfo=tzoffset(None, -14400)), prob_meas0_prep1, , 0.0504), Nduv(datetime.datetime(2021, 3, 15, 2, 31, 46, tzinfo=tzoffset(None, -14400)), prob_meas1_prep0, , 0.06459999999999999), Nduv(datetime.datetime(2021, 3, 15, 2, 31, 46, tzinfo=tzoffset(None, -14400)), readout_length, ns, 85617.77777777777)]\n",
      "id0\n",
      "[0]\n",
      "id\n",
      "[Nduv(datetime.datetime(2021, 3, 15, 3, 22, 2, tzinfo=tzoffset(None, -14400)), gate_error, , 0.00024166799076583536), Nduv(datetime.datetime(2021, 3, 15, 14, 16, 30, tzinfo=tzoffset(None, -14400)), gate_length, ns, 568.8888888888889)]\n"
     ]
    }
   ],
   "source": [
    "print(backend.properties().qubits[0])\n",
    "print(backend.properties().gates[0].name)\n",
    "print(backend.properties().gates[0].qubits)\n",
    "print(backend.properties().gates[0].gate)\n",
    "print(backend.properties().gates[0].parameters)"
   ]
  },
  {
   "cell_type": "code",
   "execution_count": null,
   "metadata": {},
   "outputs": [
    {
     "name": "stdout",
     "output_type": "stream",
     "text": [
      "0.00024166799076583536\n",
      "0.008945423825359594\n",
      "3.868444444444444e-06\n"
     ]
    }
   ],
   "source": [
    "print(backend.properties().gate_error(gate='x', qubits=[0]))\n",
    "print(backend.properties().gate_error(gate='cx', qubits=[0,1]))\n",
    "print(backend.properties().gate_length(gate='cx', qubits=[0,1]))"
   ]
  },
  {
   "attachments": {},
   "cell_type": "markdown",
   "metadata": {},
   "source": [
    "# Building Noisemodel from scratch"
   ]
  },
  {
   "cell_type": "code",
   "execution_count": null,
   "metadata": {},
   "outputs": [],
   "source": [
    "# # Create an empty noise model\n",
    "# noise_model = NoiseModel()\n",
    "\n",
    "# # Add depolarizing error to all single qubit u1, u2, u3 gates\n",
    "# error = depolarizing_error(0.05, 1)\n",
    "# noise_model.add_all_qubit_quantum_error(error, ['u1', 'u2', 'u3'])\n",
    "\n",
    "\n",
    "# # Measurement miss-assignement probabilities\n",
    "# p0given1 = 0.1\n",
    "# p1given0 = 0.05\n",
    "\n",
    "# ReadoutError([[1 - p1given0, p1given0], [p0given1, 1 - p0given1]])"
   ]
  },
  {
   "cell_type": "code",
   "execution_count": null,
   "metadata": {},
   "outputs": [],
   "source": [
    "noise_thermal = thermal_model(nqubits=5)\n",
    "\n",
    "sim_thermal = AerSimulator(noise_model=noise_thermal)"
   ]
  }
 ],
 "metadata": {
  "kernelspec": {
   "display_name": "envrl",
   "language": "python",
   "name": "python3"
  },
  "language_info": {
   "codemirror_mode": {
    "name": "ipython",
    "version": 3
   },
   "file_extension": ".py",
   "mimetype": "text/x-python",
   "name": "python",
   "nbconvert_exporter": "python",
   "pygments_lexer": "ipython3",
   "version": "3.11.3"
  },
  "orig_nbformat": 4
 },
 "nbformat": 4,
 "nbformat_minor": 2
}
