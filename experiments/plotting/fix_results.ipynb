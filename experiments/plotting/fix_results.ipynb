{
 "cells": [
  {
   "cell_type": "code",
   "execution_count": 1,
   "metadata": {},
   "outputs": [
    {
     "name": "stdout",
     "output_type": "stream",
     "text": [
      "module_path /Users/andreas-burger/RLCode/quantum-reinforcement-learning/qrc_surrogate\n"
     ]
    }
   ],
   "source": [
    "from qiskit import QuantumCircuit, transpile\n",
    "# from qiskit.providers.aer import QasmSimulator\n",
    "# from qiskit.providers.basicaer import QasmSimulatorPy\n",
    "from qiskit_aer import AerSimulator, Aer\n",
    "from qiskit.providers.fake_provider import FakeProvider, FakeManila, FakeToronto, FakeJakartaV2\n",
    "from qiskit_aer.noise import NoiseModel\n",
    "import qiskit.quantum_info as qi\n",
    "import qiskit\n",
    "\n",
    "import numpy as np\n",
    "import statsmodels.api as sm\n",
    "import matplotlib.pyplot as plt\n",
    "import seaborn as sns\n",
    "import pandas as pd\n",
    "import os\n",
    "import sys\n",
    "from datetime import date\n",
    "import pathlib\n",
    "import inspect\n",
    "import time\n",
    "import glob\n",
    "\n",
    "import warnings\n",
    "warnings.simplefilter(action='ignore', category=FutureWarning)\n",
    "\n",
    "module_path = os.path.abspath(os.path.join('..'))\n",
    "module_path = os.path.abspath(os.path.join(module_path, '..')) # qrc_surrogate\n",
    "sys.path.append(module_path)\n",
    "\n",
    "from src.feedforward import QExtremeLearningMachine\n",
    "from src.rewinding import QRewindingRC, QRewindingStatevectorRC\n",
    "from src.data import DataSource\n",
    "from experiments.plotting.plotting import get_relevant_dataframe, show_average_lines, which_moi_does_this_column_have, \\\n",
    "    better_pointplot, select_values, select_values_range, sparse_ticks, average_df\n",
    "from experiments.simulating.sweeps_paras import print_best_paras, get_paras\n",
    "\n",
    "sns.set_style(\"whitegrid\")"
   ]
  },
  {
   "attachments": {},
   "cell_type": "markdown",
   "metadata": {},
   "source": [
    "# Change dataframe where the results are saved\n",
    "\n",
    "- Each model has its own dataframe\n",
    "- Each dataframe has one row per experiment\n",
    "- Each dataframe has one column for each metric (result), model setting, and data setting"
   ]
  },
  {
   "cell_type": "code",
   "execution_count": 7,
   "metadata": {},
   "outputs": [],
   "source": [
    "\n",
    "model = QRewindingStatevectorRC\n",
    "experiment = model()\n",
    "f = f'{module_path}/experiments/results/{experiment.model_name}.parquet'\n",
    "df = pd.read_parquet(f)\n",
    "\n",
    "# # df = df.drop('dm', axis=1)\n",
    "# # df['sim_method'] = 'statevector'\n",
    "\n",
    "# # # # df = df.drop('ising_nn', axis=1)\n",
    "# # # # df['measaxes'] = 3\n",
    "# # df.measaxes = df.measaxes.apply(lambda measaxes: len(measaxes))\n",
    "# # df.encaxes = df.encaxes.apply(lambda encaxes: len(encaxes))\n",
    "\n",
    "# # # find all the indices where c1 is equal to 'Value' and assign your desired value in c2\n",
    "# # df.loc[df['measaxes'] == 3, 'measaxes'] = 'zyx'\n",
    "# # df.loc[df['measaxes'] == 2, 'measaxes'] = 'zy'\n",
    "# # df.loc[df['measaxes'] == 1, 'measaxes'] = 'z'\n",
    "# df['mape_val'] = df['mape_val'] * 100\n",
    "# df['mape_train'] = df['mape_train'] * 100\n",
    "# # df.loc[df['encaxes'] == 2, 'encaxes'] = 'xy'\n",
    "# # df.loc[df['encaxes'] == 1, 'encaxes'] = 'x'\n",
    "\n",
    "# df['keep_col'] = False\n",
    "# df.loc[df['t1'] == 1, 'keep_col'] = True\n",
    "# df.loc[df['t1'] == 0, 'keep_col'] = True\n",
    "# df = df[df['keep_col'] == True]\n",
    "# df = df.drop('keep_col', axis=1)\n",
    "\n",
    "# # df[\"date\"] = pd.to_numeric(df[\"date\"])\n",
    "# # df = df[df.date < int(20230704)]\n",
    "\n",
    "# # df['measaxes'].astype('str')\n",
    "# # df['encaxes'].astype('str')\n",
    "\n",
    "# df['use_true_y_in_val'] = False\n",
    "\n",
    "# df = df[df['restarting'] == True]\n",
    "# df['lookback_max'] = False\n",
    "\n",
    "# print(df.tail())\n",
    "# print(df['restarting'].tail())\n",
    "\n",
    "# df.to_parquet(f)\n",
    "# # df = pd.read_parquet(f)"
   ]
  },
  {
   "cell_type": "code",
   "execution_count": 3,
   "metadata": {},
   "outputs": [],
   "source": [
    "# delete all restarting=False\n",
    "# df = df[df['restarting'] == True]\n",
    "# QExtremeLearningMachine, CPolynomialFeedforward\n",
    "# df['lookback_max] = False"
   ]
  }
 ],
 "metadata": {
  "kernelspec": {
   "display_name": "envrl",
   "language": "python",
   "name": "python3"
  },
  "language_info": {
   "codemirror_mode": {
    "name": "ipython",
    "version": 3
   },
   "file_extension": ".py",
   "mimetype": "text/x-python",
   "name": "python",
   "nbconvert_exporter": "python",
   "pygments_lexer": "ipython3",
   "version": "3.11.3"
  },
  "orig_nbformat": 4
 },
 "nbformat": 4,
 "nbformat_minor": 2
}
