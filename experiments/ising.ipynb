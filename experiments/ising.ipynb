{
 "cells": [
  {
   "cell_type": "code",
   "execution_count": 5,
   "metadata": {},
   "outputs": [],
   "source": [
    "from qiskit import QuantumCircuit, transpile\n",
    "# from qiskit.providers.aer import QasmSimulator\n",
    "# from qiskit.providers.basicaer import QasmSimulatorPy\n",
    "from qiskit_aer import AerSimulator\n",
    "from qiskit.providers.fake_provider import FakeManila, FakeToronto\n",
    "from qiskit.opflow import I, X, Y, Z, Zero, One, Plus, Minus, PauliTrotterEvolution, CircuitSampler, PauliOp, PauliSumOp, Suzuki\n",
    "from qiskit.circuit import Parameter\n",
    "from qiskit.circuit.library import PauliEvolutionGate\n",
    "from qiskit.synthesis import QDrift, LieTrotter, SuzukiTrotter\n",
    "from qiskit.visualization import plot_histogram\n",
    "import qiskit.quantum_info as qi\n",
    "\n",
    "import numpy as np\n",
    "import statsmodels.api as sm\n",
    "import matplotlib\n",
    "import matplotlib.pyplot as plt\n",
    "import seaborn as sns\n",
    "import pandas as pd\n",
    "import sklearn.preprocessing as skp\n",
    "from scipy.signal import savgol_filter\n",
    "import scipy\n",
    "import os\n",
    "import sys\n",
    "import itertools\n",
    "from numpy.random import Generator, PCG64\n",
    "from datetime import date\n",
    "import pathlib\n",
    "import inspect\n",
    "import time\n",
    "\n",
    "import warnings\n",
    "warnings.simplefilter(action='ignore', category=FutureWarning)\n",
    "\n",
    "module_path = os.path.abspath(os.path.join('..')) # qrc_surrogate\n",
    "sys.path.append(module_path)\n",
    "\n",
    "from src.data import DataSource\n",
    "from src.circuits import ising_circuit\n"
   ]
  },
  {
   "attachments": {},
   "cell_type": "markdown",
   "metadata": {},
   "source": [
    "# Ising model"
   ]
  },
  {
   "cell_type": "code",
   "execution_count": 6,
   "metadata": {},
   "outputs": [],
   "source": [
    "nqubits = 2\n",
    "rseed = 1\n",
    "\n",
    "h = 1\n",
    "h_op = 4*(X^X) + (1/2)*(h + 3)*(Z^I) + (1/2)*(h + 3)*(I^Z)\n",
    "t = 1\n",
    "\n",
    "h_mat = np.zeros(shape=(2**nqubits, 2**nqubits))"
   ]
  },
  {
   "cell_type": "code",
   "execution_count": 7,
   "metadata": {},
   "outputs": [
    {
     "data": {
      "text/html": [
       "<pre style=\"word-wrap: normal;white-space: pre;background: #fff0;line-height: 1.1;font-family: &quot;Courier New&quot;,Courier,monospace\">     ┌─────────┐┌───────┐\n",
       "q_0: ┤0        ├┤ Rz(4) ├\n",
       "     │  Rxx(8) │├───────┤\n",
       "q_1: ┤1        ├┤ Rz(4) ├\n",
       "     └─────────┘└───────┘</pre>"
      ],
      "text/plain": [
       "     ┌─────────┐┌───────┐\n",
       "q_0: ┤0        ├┤ Rz(4) ├\n",
       "     │  Rxx(8) │├───────┤\n",
       "q_1: ┤1        ├┤ Rz(4) ├\n",
       "     └─────────┘└───────┘"
      ]
     },
     "execution_count": 7,
     "metadata": {},
     "output_type": "execute_result"
    }
   ],
   "source": [
    "qc =  QuantumCircuit(nqubits)\n",
    "qubits_system = [*range(nqubits)]\n",
    "\n",
    "trotterized_op = PauliEvolutionGate(h_op, time=t, synthesis=LieTrotter(reps=1))\n",
    "qc.append(trotterized_op, qubits_system)\n",
    "\n",
    "qc = transpile(qc, backend=AerSimulator())\n",
    "qc.draw()"
   ]
  },
  {
   "cell_type": "code",
   "execution_count": 8,
   "metadata": {},
   "outputs": [
    {
     "name": "stderr",
     "output_type": "stream",
     "text": [
      "/opt/homebrew/anaconda3/envs/envrl/lib/python3.11/site-packages/numpy/linalg/linalg.py:2139: RuntimeWarning: divide by zero encountered in det\n",
      "  r = _umath_linalg.det(a, signature=signature)\n",
      "/opt/homebrew/anaconda3/envs/envrl/lib/python3.11/site-packages/numpy/linalg/linalg.py:2139: RuntimeWarning: invalid value encountered in det\n",
      "  r = _umath_linalg.det(a, signature=signature)\n"
     ]
    },
    {
     "data": {
      "text/html": [
       "<pre style=\"word-wrap: normal;white-space: pre;background: #fff0;line-height: 1.1;font-family: &quot;Courier New&quot;,Courier,monospace\">global phase: 5.5297\n",
       "            ┌──────────────┐       ┌───────────┐      ┌────────────────┐     »\n",
       "q_0: ───────┤ U(π,π/2,π/2) ├───────┤0          ├──────┤ U(π/2,π/2,π/2) ├─────»\n",
       "     ┌──────┴──────────────┴──────┐│  Rxx(π/2) │┌─────┴────────────────┴────┐»\n",
       "q_1: ┤ U(1.6022,-0.031449,0.7849) ├┤1          ├┤ U(2.3576,-0.4262,-2.7154) ├»\n",
       "     └────────────────────────────┘└───────────┘└───────────────────────────┘»\n",
       "«     ┌───────────┐     ┌─────────────────┐      \n",
       "«q_0: ┤0          ├─────┤ U(π/2,-π/2,π/2) ├──────\n",
       "«     │  Rxx(π/2) │┌────┴─────────────────┴─────┐\n",
       "«q_1: ┤1          ├┤ U(1.6022,0.7849,-0.031449) ├\n",
       "«     └───────────┘└────────────────────────────┘</pre>"
      ],
      "text/plain": [
       "global phase: 5.5297\n",
       "            ┌──────────────┐       ┌───────────┐      ┌────────────────┐     »\n",
       "q_0: ───────┤ U(π,π/2,π/2) ├───────┤0          ├──────┤ U(π/2,π/2,π/2) ├─────»\n",
       "     ┌──────┴──────────────┴──────┐│  Rxx(π/2) │┌─────┴────────────────┴────┐»\n",
       "q_1: ┤ U(1.6022,-0.031449,0.7849) ├┤1          ├┤ U(2.3576,-0.4262,-2.7154) ├»\n",
       "     └────────────────────────────┘└───────────┘└───────────────────────────┘»\n",
       "«     ┌───────────┐     ┌─────────────────┐      \n",
       "«q_0: ┤0          ├─────┤ U(π/2,-π/2,π/2) ├──────\n",
       "«     │  Rxx(π/2) │┌────┴─────────────────┴─────┐\n",
       "«q_1: ┤1          ├┤ U(1.6022,0.7849,-0.031449) ├\n",
       "«     └───────────┘└────────────────────────────┘"
      ]
     },
     "execution_count": 8,
     "metadata": {},
     "output_type": "execute_result"
    }
   ],
   "source": [
    "qc =  QuantumCircuit(nqubits)\n",
    "qubits_system = [*range(nqubits)]\n",
    "\n",
    "xmat = np.array([[0, 1], [1, 0]])\n",
    "ymat = np.array([[0, 1], [1, 0]])\n",
    "zmat = np.array([[1, 0], [0, -1]])\n",
    "\n",
    "h_mat = np.kron(xmat, xmat)\n",
    "\n",
    "h_unitary = scipy.linalg.expm(-1j * t * h_mat)\n",
    "qc.unitary(h_unitary, qubits_system, label='H')\n",
    "\n",
    "# qc = transpile(qc, backend=AerSimulator(), basis_gates=['cx', 'id', 'rxx', 'x', 'sx', 'rz', 'reset'])\n",
    "qc = transpile(qc, backend=AerSimulator(), basis_gates=['rxx', 'rz', 'u'])\n",
    "qc.draw()"
   ]
  },
  {
   "attachments": {},
   "cell_type": "markdown",
   "metadata": {},
   "source": [
    "# Critical parameter\n",
    "\n",
    "- Many-body localization in spin chains with long-range transverse interactions: Scaling of critical disorder with system size"
   ]
  },
  {
   "cell_type": "code",
   "execution_count": 9,
   "metadata": {},
   "outputs": [
    {
     "name": "stdout",
     "output_type": "stream",
     "text": [
      "a = 0.10, wc = 13.01\n",
      "a = 0.50, wc = 10.12\n",
      "a = 1.00, wc = 11.31\n",
      "a = 1.25, wc = 10.78\n",
      "a = 1.40, wc = 22.93\n"
     ]
    }
   ],
   "source": [
    "j0 = 1\n",
    "n = 5 # nqubits\n",
    "a = 1 # long range limit, < 3/2\n",
    "\n",
    "for a in [0.1, .5, 1, 1.25, 1.4]:\n",
    "    if a <= 1 and a > 0:\n",
    "        wc = (1.37 * j0 / ( (4/3) - a)) * (n**((4/3) - a)) * np.log(n) # 0 < a < 1\n",
    "        print(f'a = {a:.2f}, wc = {wc:.2f}')\n",
    "    elif a > 1 and a < 3/2:\n",
    "        wc = (j0/(1 - (2 * a / 3))) * n**(1 - (2 * a / 3)) * np.log(n)**(2/3)  # 1 < a < 3/2\n",
    "        print(f'a = {a:.2f}, wc = {wc:.2f}')\n",
    "    else:\n",
    "        raise ValueError(f'a = {a}')"
   ]
  },
  {
   "attachments": {},
   "cell_type": "markdown",
   "metadata": {},
   "source": [
    "# entropy"
   ]
  },
  {
   "cell_type": "code",
   "execution_count": 10,
   "metadata": {},
   "outputs": [],
   "source": [
    "def von_neumann_entropy(dm, subsystem=[0], base_e=True):\n",
    "    subdm = qi.partial_trace(dm, qargs=subsystem)\n",
    "    mat = subdm.data\n",
    "    if base_e:\n",
    "        return -1 * np.trace(\n",
    "            np.matmul(mat, np.log(mat))\n",
    "        )\n",
    "    else:\n",
    "        return -1 * np.trace(\n",
    "            np.matmul(mat, np.log2(mat))\n",
    "        )"
   ]
  },
  {
   "cell_type": "code",
   "execution_count": 11,
   "metadata": {},
   "outputs": [
    {
     "name": "stdout",
     "output_type": "stream",
     "text": [
      "1.0\n",
      "1.0\n"
     ]
    }
   ],
   "source": [
    "nqubits = 2\n",
    "shots = 10000\n",
    "subsystem = [0]\n",
    "qubits_system = [*range(nqubits)]\n",
    "sim = AerSimulator(method='statevector') # density_matrix\n",
    "\n",
    "qc = QuantumCircuit(nqubits)\n",
    "qc.h(0)\n",
    "qc.cnot(0, 1)\n",
    "\n",
    "sv = qi.Statevector.from_label('0'*nqubits)\n",
    "sv = sv.evolve(qc)\n",
    "subsv = qi.partial_trace(sv, qargs=subsystem)\n",
    "entropy = qi.entropy(subsv)\n",
    "\n",
    "print(entropy)\n",
    "\n",
    "\n",
    "sim = AerSimulator(method='density_matrix') # statevector density_matrix\n",
    "\n",
    "qc = QuantumCircuit(nqubits)\n",
    "qc.h(0)\n",
    "qc.cnot(0, 1)\n",
    "\n",
    "sv = qi.Statevector.from_label('0'*nqubits)\n",
    "sv = qi.DensityMatrix(sv.data)\n",
    "sv = sv.evolve(qc)\n",
    "subsv = qi.partial_trace(sv, qargs=subsystem)\n",
    "entropy = qi.entropy(subsv)\n",
    "\n",
    "print(entropy)\n"
   ]
  },
  {
   "attachments": {},
   "cell_type": "markdown",
   "metadata": {},
   "source": [
    "# Rxx Entropy"
   ]
  },
  {
   "cell_type": "code",
   "execution_count": 12,
   "metadata": {},
   "outputs": [
    {
     "data": {
      "image/png": "[encoded data removed]",
      "text/plain": [
       "<Figure size 640x480 with 1 Axes>"
      ]
     },
     "metadata": {},
     "output_type": "display_data"
    }
   ],
   "source": [
    "nqubits = 2\n",
    "shots = 10000\n",
    "qubits_system = [*range(nqubits)]\n",
    "subsystem = [1]\n",
    "sim = AerSimulator(method='statevector') # density_matrix\n",
    "\n",
    "counts_list = []\n",
    "entropy_list = []\n",
    "\n",
    "h = .1\n",
    "w = 10\n",
    "\n",
    "js = np.arange(0, 2.1, .1)\n",
    "for j in js:\n",
    "    t = 1\n",
    "\n",
    "    qc = QuantumCircuit(nqubits)\n",
    "    qc.rxx(theta=(j * t * np.pi), qubit1=0, qubit2=1)\n",
    "\n",
    "    # qc.rz(phi=1/2 * t * (h + w), qubit=0)\n",
    "    # qc.rz(phi=1/2 * t * (h + w), qubit=1)\n",
    "    # qc.rz(phi=1/2 * t * (h + w) * np.pi, qubit=0)\n",
    "    # qc.rz(phi=1/2 * t * (h + w) * np.pi, qubit=1)\n",
    "\n",
    "    # qc.measure(qubits_system, qubits_system)\n",
    "    # qc = transpile(qc, backend=sim, basis_gates=['rxx', 'rz', 'u'])\n",
    "    # job = sim.run(qc, shots=shots)\n",
    "    # result = job.result()\n",
    "    # counts = result.get_counts()\n",
    "\n",
    "    sv = qi.Statevector.from_label('0'*nqubits)\n",
    "    sv = qi.DensityMatrix(sv.data)\n",
    "    sv = sv.evolve(qc)\n",
    "    subsv = qi.partial_trace(sv, qargs=subsystem)\n",
    "    entropy_list.append(qi.entropy(subsv))\n",
    "    counts = sv.sample_counts(shots=shots)\n",
    "\n",
    "\n",
    "    counts_list.append(counts)\n",
    "    # qc.draw()\n",
    "\n",
    "colors = list(sns.color_palette())\n",
    "colors += colors\n",
    "# plot_histogram(counts_list, legend=[str(round(j, 1)) for j in js], color=colors[:len(js)], bar_labels=False)\n",
    "\n",
    "plt.figure()\n",
    "plt.plot(js, entropy_list)\n",
    "plt.xticks(js)\n",
    "plt.xlabel('Angle Rxx [Pi]')\n",
    "plt.ylabel('Von Neumann Entropy')\n",
    "plt.title(f'Entropy of subsystem {subsystem}')\n",
    "plt.show()"
   ]
  },
  {
   "cell_type": "code",
   "execution_count": 13,
   "metadata": {},
   "outputs": [
    {
     "data": {
      "image/png": "[encoded data removed]",
      "text/plain": [
       "<Figure size 700x500 with 1 Axes>"
      ]
     },
     "execution_count": 13,
     "metadata": {},
     "output_type": "execute_result"
    }
   ],
   "source": [
    "nqubits = 1\n",
    "qubits_system = [*range(nqubits)]\n",
    "sim = AerSimulator()\n",
    "\n",
    "counts_list = []\n",
    "for j in js:\n",
    "    t = 1\n",
    "\n",
    "    qc =  QuantumCircuit(nqubits, nqubits)\n",
    "    qc.rx(theta=(j * t * np.pi), qubit=0)\n",
    "    # qc.rz(phi=1/2 * t * (h + w) * np.pi, qubit=1)\n",
    "    # qc.rz(phi=1/2 * t * (h + w) * np.pi, qubit=2)\n",
    "    qc.measure(qubits_system, qubits_system)\n",
    "    qc = transpile(qc, backend=sim, basis_gates=['rxx', 'rx', 'rz', 'u'])\n",
    "    job = sim.run(qc, shots=shots)\n",
    "    result = job.result()\n",
    "    counts = result.get_counts()\n",
    "    counts_list.append(counts)\n",
    "    # qc.draw()\n",
    "\n",
    "colors = list(sns.color_palette())\n",
    "colors += colors\n",
    "plot_histogram(counts_list, legend=[str(round(j, 1)) for j in js], color=colors[:len(js)], bar_labels=False)\n"
   ]
  },
  {
   "cell_type": "code",
   "execution_count": null,
   "metadata": {},
   "outputs": [],
   "source": []
  },
  {
   "attachments": {},
   "cell_type": "markdown",
   "metadata": {},
   "source": [
    "# Fully connected ising"
   ]
  },
  {
   "cell_type": "code",
   "execution_count": 14,
   "metadata": {},
   "outputs": [],
   "source": [
    "def ising_circuit(nqubits, rseed=0):\n",
    "    \"\"\"\n",
    "    https://arxiv.org/pdf/2103.05348.pdf\n",
    "    J in (-jmax/2, jmax/2)\n",
    "    D in (-wmax, wmax)\n",
    "    best: J=1, h=0.1, W=.5\n",
    "    \"\"\"\n",
    "    qc =  QuantumCircuit(nqubits)\n",
    "    rng = Generator(PCG64(seed=rseed))\n",
    "    for j in range(nqubits):\n",
    "        for i in range(j+1, nqubits):\n",
    "            qc.rxx(theta=(rng.random() * jmax - (jmax/2)) * t, qubit1=i, qubit2=j)\n",
    "        qc.rz(phi=1/2 * t * (h + (rng.random() * 2 * wmax - wmax)), qubit=j)\n",
    "    return qc\n"
   ]
  },
  {
   "cell_type": "code",
   "execution_count": null,
   "metadata": {},
   "outputs": [],
   "source": []
  }
 ],
 "metadata": {
  "kernelspec": {
   "display_name": "envrl",
   "language": "python",
   "name": "python3"
  },
  "language_info": {
   "codemirror_mode": {
    "name": "ipython",
    "version": 3
   },
   "file_extension": ".py",
   "mimetype": "text/x-python",
   "name": "python",
   "nbconvert_exporter": "python",
   "pygments_lexer": "ipython3",
   "version": "3.11.3"
  },
  "orig_nbformat": 4
 },
 "nbformat": 4,
 "nbformat_minor": 2
}
